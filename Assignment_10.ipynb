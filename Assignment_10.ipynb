{
 "cells": [
  {
   "cell_type": "markdown",
   "metadata": {},
   "source": [
    "## Assignment 10\n",
    "\n",
    "## LESSON PLAN\n",
    "\n",
    "Due within 3 days.\n",
    "\n",
    "## I. Aims\n",
    "\n",
    "a. This session will explore the basic program code elements of \"Functions\".\n",
    "\n",
    "## II. Learning Objectives\n",
    "\n",
    "a. By the end of this session you will understand what a Functions is and how it is a consideration in all programming languages.\n",
    "\n",
    "## III. Starter Activity (0 minutes)\n",
    "\n",
    "<empty>"
   ]
  },
  {
   "cell_type": "markdown",
   "metadata": {},
   "source": [
    "## IV. Main Activity (55 minutes)\n",
    "\n",
    "1. What is a \"member function\"?"
   ]
  },
  {
   "cell_type": "markdown",
   "metadata": {},
   "source": [
    "<insert answer to 1 here>"
   ]
  },
  {
   "cell_type": "markdown",
   "metadata": {},
   "source": [
    "2. Compare a and b below. How are they different? How are they the same?\n",
    "\n",
    "a.\n",
    "```c++\n",
    "class Sq {\n",
    "public:\n",
    "    int a;\n",
    "    int square(); // Declaring function square with no argument and having return type 'int'.\n",
    "};\n",
    "\n",
    "int Sq::square()\n",
    "{\n",
    "    return a * a;\n",
    "}\n",
    "```\n",
    "b.\n",
    "```c++\n",
    "class Sq {\n",
    "public:\n",
    "    int a;\n",
    "    int square()\n",
    "    {\n",
    "        return a * a; //returns square of a number\n",
    "    }\n",
    "};\n",
    "```"
   ]
  },
  {
   "cell_type": "markdown",
   "metadata": {},
   "source": [
    "<insert answer to 2 here>"
   ]
  },
  {
   "cell_type": "markdown",
   "metadata": {},
   "source": [
    "3.\n",
    "In the space below briefly tell me what a main() function is."
   ]
  },
  {
   "cell_type": "markdown",
   "metadata": {},
   "source": [
    "<insert answer to 3 here>"
   ]
  },
  {
   "cell_type": "markdown",
   "metadata": {},
   "source": [
    "4.\n",
    "Here is the syntax of a function:\n",
    "\n",
    "```c++\n",
    "void myFunction() {\n",
    "  // code to be executed\n",
    "}\n",
    "```\n",
    "\n",
    "In the space below create your own function using this syntax."
   ]
  },
  {
   "cell_type": "markdown",
   "metadata": {},
   "source": [
    "<insert answer to 4 here>"
   ]
  },
  {
   "cell_type": "markdown",
   "metadata": {},
   "source": [
    "5.\n",
    "Run this:\n",
    "\n",
    "```c++\n",
    "#include <iostream>\n",
    "using namespace std;\n",
    "```"
   ]
  },
  {
   "cell_type": "markdown",
   "metadata": {},
   "source": [
    "6.\n",
    "Run this:\n",
    "\n",
    "```c++\n",
    "// Create a function\n",
    "void myFunction() {\n",
    "  cout << \"I just got executed!\";\n",
    "}\n",
    "myFunction(); // call the function\n",
    "```"
   ]
  },
  {
   "cell_type": "markdown",
   "metadata": {},
   "source": [
    "7.\n",
    "Run this:\n",
    "\n",
    "```c++\n",
    "void myFunction() {\n",
    "  cout << \"I just got executed!\\n\";\n",
    "}\n",
    "  myFunction();\n",
    "  myFunction();\n",
    "  myFunction();\n",
    "```"
   ]
  },
  {
   "cell_type": "markdown",
   "metadata": {},
   "source": [
    "8.\n",
    "In the space below, modify the code in question 7 to print \"I just got executed!\" 5 times."
   ]
  },
  {
   "cell_type": "markdown",
   "metadata": {},
   "source": [
    "<insert answer to 8 here>"
   ]
  },
  {
   "cell_type": "markdown",
   "metadata": {},
   "source": [
    "9.\n",
    "Explain what a \"parameter\" is and an \"argument\"."
   ]
  },
  {
   "cell_type": "markdown",
   "metadata": {},
   "source": [
    "10.\n",
    "Run this:\n",
    "\n",
    "```c++\n",
    "void myFunction(string fname) {\n",
    "  cout << fname << \" Refsnes\\n\";\n",
    "}\n",
    "\n",
    "  myFunction(\"Liam\");\n",
    "  myFunction(\"Jenny\");\n",
    "  myFunction(\"Anja\");\n",
    "```"
   ]
  },
  {
   "cell_type": "code",
   "execution_count": null,
   "metadata": {},
   "outputs": [],
   "source": []
  }
 ],
 "metadata": {
  "kernelspec": {
   "display_name": "C++14",
   "language": "C++14",
   "name": "xcpp14"
  },
  "language_info": {
   "codemirror_mode": "text/x-c++src",
   "file_extension": ".cpp",
   "mimetype": "text/x-c++src",
   "name": "c++",
   "version": "14"
  }
 },
 "nbformat": 4,
 "nbformat_minor": 4
}
