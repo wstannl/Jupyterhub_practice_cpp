{
 "cells": [
  {
   "cell_type": "markdown",
   "metadata": {},
   "source": [
    "## Assignment 11\n",
    "\n",
    "## LESSON PLAN\n",
    "\n",
    "Due within 3 days.\n",
    "\n",
    "## I. Aims\n",
    "\n",
    "a. This session will explore the basic program code elements of \"Input and Output Operations\".\n",
    "\n",
    "## II. Learning Objectives\n",
    "\n",
    "a. By the end of this session you will understand what a Input and Output Operations are and how it is a consideration in all programming languages.\n",
    "\n",
    "## III. Starter Activity (0 minutes)\n",
    "\n",
    "<empty>\n",
    "\n",
    "## IV. Main Activity (55 minutes)"
   ]
  },
  {
   "cell_type": "markdown",
   "metadata": {},
   "source": [
    "1.\n",
    "Run this:\n",
    "```c++\n",
    "#include <iostream>\n",
    "using namespace std;\n",
    "```"
   ]
  },
  {
   "cell_type": "markdown",
   "metadata": {},
   "source": [
    "2.\n",
    "Run this:\n",
    "```c++\n",
    "cout << \"Hello World!\";\n",
    "```"
   ]
  },
  {
   "cell_type": "markdown",
   "metadata": {},
   "source": [
    "3.\n",
    "Explain what \"cout\" is in 2."
   ]
  },
  {
   "cell_type": "markdown",
   "metadata": {},
   "source": [
    "<insert answer for 3 here>"
   ]
  },
  {
   "cell_type": "markdown",
   "metadata": {},
   "source": [
    "4.\n",
    "Explain what \"<<\" is in 2."
   ]
  },
  {
   "cell_type": "markdown",
   "metadata": {},
   "source": [
    "<insert answer for 4 here>"
   ]
  },
  {
   "cell_type": "markdown",
   "metadata": {},
   "source": [
    "5.\n",
    "Run this:\n",
    "```c++\n",
    "cout << \"Hello World!\";\n",
    "cout << \"I am learning C++\";\n",
    "```"
   ]
  },
  {
   "cell_type": "markdown",
   "metadata": {},
   "source": [
    "6.\n",
    "Run this:\n",
    "```c++\n",
    "cout << \"Hello World! \\n\";\n",
    "cout << \"I am learning C++\";\n",
    "```"
   ]
  },
  {
   "cell_type": "markdown",
   "metadata": {},
   "source": [
    "7.\n",
    "In 6, what is \"\\n\" doing?"
   ]
  },
  {
   "cell_type": "markdown",
   "metadata": {},
   "source": [
    "<insert answer for 7 here>"
   ]
  },
  {
   "cell_type": "markdown",
   "metadata": {},
   "source": [
    "8.\n",
    "Run this:\n",
    "```c++\n",
    "// This is a comment\n",
    "cout << \"Hello World!\";\n",
    "```"
   ]
  },
  {
   "cell_type": "markdown",
   "metadata": {},
   "source": [
    "9.\n",
    "In 8, what is \"//\" doing?"
   ]
  },
  {
   "cell_type": "markdown",
   "metadata": {},
   "source": [
    "<insert answer for 9 here>"
   ]
  },
  {
   "cell_type": "markdown",
   "metadata": {},
   "source": [
    "10.\n",
    "In C++, what is \"cin\" and what does it do?"
   ]
  },
  {
   "cell_type": "markdown",
   "metadata": {},
   "source": [
    "<insert answer for 10 here>"
   ]
  },
  {
   "cell_type": "markdown",
   "metadata": {},
   "source": [
    "After completing this assignment, please create a copy and move the copy to the scratch directory."
   ]
  },
  {
   "cell_type": "code",
   "execution_count": null,
   "metadata": {},
   "outputs": [],
   "source": []
  }
 ],
 "metadata": {
  "kernelspec": {
   "display_name": "C++14",
   "language": "C++14",
   "name": "xcpp14"
  },
  "language_info": {
   "codemirror_mode": "text/x-c++src",
   "file_extension": ".cpp",
   "mimetype": "text/x-c++src",
   "name": "c++",
   "version": "14"
  }
 },
 "nbformat": 4,
 "nbformat_minor": 4
}
