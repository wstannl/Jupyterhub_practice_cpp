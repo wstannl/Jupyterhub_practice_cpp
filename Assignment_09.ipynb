{
 "cells": [
  {
   "cell_type": "markdown",
   "metadata": {},
   "source": [
    "## Assignment 9\n",
    "\n",
    "## LESSON PLAN\n",
    "\n",
    "Due within 3 days.\n",
    "\n",
    "## I. Aims\n",
    "\n",
    "a. This session will explore the basic program code elements of \"Numbers, Characters and Arrays\".\n",
    "\n",
    "## II. Learning Objectives\n",
    "\n",
    "a. By the end of this session you will understand what a Numbers, Characters and Arrays are and how it is a consideration in all programming languages.\n",
    "\n",
    "## III. Starter Activity (0 minutes)\n",
    "\n",
    "<empty>\n",
    "\n",
    "## IV. Main Activity (55 minutes)\n",
    "\n",
    "1. This page will provide both the directions for this assignment as well as your answers."
   ]
  },
  {
   "cell_type": "markdown",
   "metadata": {},
   "source": [
    "2.\n",
    "```c++\n",
    "#include <iostream>\n",
    "using namespace std;\n",
    "```"
   ]
  },
  {
   "cell_type": "markdown",
   "metadata": {},
   "source": [
    "3. With your mouse pointer, select the content of \"2\" above. It should be highlighted when you do this. Then, at the top-left of this page click on the button with a \"+\" sign. This, will create a new blank window. In this new blank window, paste the content from \"2\" and then click on the button above labeled \">Run\"."
   ]
  },
  {
   "cell_type": "markdown",
   "metadata": {},
   "source": [
    "4.\n",
    "```c++\n",
    "float myNum = 5.75;\n",
    "cout << myNum;\n",
    "```"
   ]
  },
  {
   "cell_type": "markdown",
   "metadata": {},
   "source": [
    "5. Perform the same action as described in \"3\" so that you create a new window directly below frame \"4\", paste the content of 4, and then \"run\" it."
   ]
  },
  {
   "cell_type": "markdown",
   "metadata": {},
   "source": [
    "6.\n",
    "```c++\n",
    "double myNum = 19.99;\n",
    "cout << myNum;\n",
    "```"
   ]
  },
  {
   "cell_type": "markdown",
   "metadata": {},
   "source": [
    "7. Create a new frame, copy, paste and run as before."
   ]
  },
  {
   "cell_type": "markdown",
   "metadata": {},
   "source": [
    "8.\n",
    "```c++\n",
    "float f1 = 35e3;\n",
    "double d1 = 12E4;\n",
    "cout << f1;\n",
    "cout << d1;\n",
    "```"
   ]
  },
  {
   "cell_type": "markdown",
   "metadata": {},
   "source": [
    "9. Create a new frame, copy, paste and run as before."
   ]
  },
  {
   "cell_type": "markdown",
   "metadata": {},
   "source": [
    "10.\n",
    "```c++\n",
    "char myGrade = 'B';\n",
    "cout << myGrade;\n",
    "```"
   ]
  },
  {
   "cell_type": "markdown",
   "metadata": {},
   "source": [
    "11. Create a new frame, copy, paste and run as before."
   ]
  },
  {
   "cell_type": "markdown",
   "metadata": {},
   "source": [
    "12.\n",
    "```c++\n",
    "char a = 65, b = 66, c = 67;\n",
    "cout << a;\n",
    "cout << b;\n",
    "cout << c;\n",
    "```"
   ]
  },
  {
   "cell_type": "markdown",
   "metadata": {},
   "source": [
    "13. Create a new frame, copy, paste and run as before."
   ]
  },
  {
   "cell_type": "markdown",
   "metadata": {},
   "source": [
    "14.\n",
    "```c++\n",
    "string cars[4] = {\"Volvo\", \"BMW\", \"Ford\", \"Mazda\"};\n",
    "cout << cars[0];\n",
    "```"
   ]
  },
  {
   "cell_type": "markdown",
   "metadata": {},
   "source": [
    "15. Create a new frame, copy, paste and run as before."
   ]
  },
  {
   "cell_type": "markdown",
   "metadata": {},
   "source": [
    "16.\n",
    "```c++\n",
    "// Change the value of a specific element.\n",
    "cars[0] = \"Opel\";\n",
    "```"
   ]
  },
  {
   "cell_type": "markdown",
   "metadata": {},
   "source": [
    "17. ... new frame, copy, paste and run as before."
   ]
  },
  {
   "cell_type": "markdown",
   "metadata": {},
   "source": [
    "18.\n",
    "```c++\n",
    "string cars[4] = {\"Volvo\", \"BMW\", \"Ford\", \"Mazda\"};\n",
    "cars[0] = \"Opel\";\n",
    "cout << cars[0];\n",
    "```"
   ]
  },
  {
   "cell_type": "markdown",
   "metadata": {},
   "source": [
    "19. ... new frame, copy, paste and run as before."
   ]
  },
  {
   "cell_type": "markdown",
   "metadata": {},
   "source": [
    "## V. Practice"
   ]
  },
  {
   "cell_type": "markdown",
   "metadata": {},
   "source": [
    "1. Practice today's assignment below by creating 3 of your own code examples that will demonstrate \"int\", \"float\", \"double\" \"Numeric Types and 2 code examples for \"Arrays\". So, you will create a blank space where you will paste your code and run it."
   ]
  },
  {
   "cell_type": "code",
   "execution_count": null,
   "metadata": {},
   "outputs": [],
   "source": []
  }
 ],
 "metadata": {
  "kernelspec": {
   "display_name": "C++14",
   "language": "C++14",
   "name": "xcpp14"
  },
  "language_info": {
   "codemirror_mode": "text/x-c++src",
   "file_extension": ".cpp",
   "mimetype": "text/x-c++src",
   "name": "c++",
   "version": "14"
  }
 },
 "nbformat": 4,
 "nbformat_minor": 4
}
