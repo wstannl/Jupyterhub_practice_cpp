{
 "cells": [
  {
   "cell_type": "markdown",
   "metadata": {},
   "source": [
    "## Review\n",
    "\n",
    "This review covers the fundamentals of programming as it relates to C++\n",
    "\n",
    "Topics covered in previous assignments include the following:\n",
    "I.   Programming Environment\n",
    "II.  Data Types\n",
    "III. Variables\n",
    "IV.  Keywords\n",
    "V.   Logical and Arithmetical Operators\n",
    "VI.  If else conditions\n",
    "VII. Loops\n",
    "VIII.Numbers, Characters and Arrays\n",
    "IX.  Functions\n",
    "X.   Input and Output Operations\n",
    "\n",
    "Please complete the following problems using Jupyter to enter your answer. At the end when you are finished, make a copy of this file and place it in the shared folder."
   ]
  },
  {
   "cell_type": "markdown",
   "metadata": {},
   "source": [
    "Provide the correct data type for the following variables:"
   ]
  },
  {
   "cell_type": "markdown",
   "metadata": {},
   "source": [
    "1.\n",
    "```c++\n",
    "<your answer here> myNum = 9;\n",
    "```"
   ]
  },
  {
   "cell_type": "markdown",
   "metadata": {},
   "source": [
    "2.\n",
    "```c++\n",
    "<your answer here> myDoubleNum = 8.99;\n",
    "```"
   ]
  },
  {
   "cell_type": "markdown",
   "metadata": {},
   "source": [
    "3.\n",
    "```c++\n",
    "<your answer here> myLetter = 'A';\n",
    "```"
   ]
  },
  {
   "cell_type": "markdown",
   "metadata": {},
   "source": [
    "4.\n",
    "```c++\n",
    "<your answer here> myBool = false;\n",
    "```"
   ]
  },
  {
   "cell_type": "markdown",
   "metadata": {},
   "source": [
    "5.\n",
    "```c++\n",
    "<your answer here> myText = \"Hello World\";\n",
    "```"
   ]
  },
  {
   "cell_type": "markdown",
   "metadata": {},
   "source": [
    "6.\n",
    "    \n",
    "Create a variable named myNum and assign the value 50 to it.\n",
    "*Place your answer directly below using the \"+\" button to create a box to put it.*"
   ]
  },
  {
   "cell_type": "markdown",
   "metadata": {},
   "source": [
    "7.\n",
    "    \n",
    "Run this:\n",
    "```c++\n",
    "#include <iostream>\n",
    "using namespace std;\n",
    "```"
   ]
  },
  {
   "cell_type": "markdown",
   "metadata": {},
   "source": [
    "8.\n",
    "    \n",
    "The following has an error. Correct the error then run it to prove you fixed it.\n",
    "\n",
    "```c++\n",
    "int x = 5, y = 6.5, z = 50;\n",
    "cout << x + y + z;\n",
    "```"
   ]
  },
  {
   "cell_type": "markdown",
   "metadata": {},
   "source": [
    "9.\n",
    "\n",
    "Fix the following so it is correct.\n",
    "\n",
    "```c++\n",
    "\\\\ Note the following\n",
    "int x = 5, y = 6, z = 50;\n",
    "cout << x + y + z;\n",
    "```"
   ]
  },
  {
   "cell_type": "markdown",
   "metadata": {},
   "source": [
    "Constants:\n",
    "\n",
    "When you do not want others (or yourself) to override existing variable values, use the const keyword (this will declare the variable as \"constant\", which means unchangeable and read-only):\n",
    "\n",
    "Example:\n",
    "\n",
    "const int myNum = 15;  // myNum will always be 15\n",
    "\n",
    "myNum = 10;  // error: assignment of read-only variable 'myNum'\n",
    "\n",
    "For questions 10, 11 and 12 create your own ecamples of \"constants\" using the syntax given the in the example above.\n",
    "    "
   ]
  },
  {
   "cell_type": "markdown",
   "metadata": {},
   "source": [
    "<space for question 10>"
   ]
  },
  {
   "cell_type": "markdown",
   "metadata": {},
   "source": [
    "<space for question 11>"
   ]
  },
  {
   "cell_type": "markdown",
   "metadata": {},
   "source": [
    "<space for question 12>"
   ]
  },
  {
   "cell_type": "markdown",
   "metadata": {},
   "source": [
    "For questions 13 - 19. Provide the missing \"Operator\". Example: Addition  + ."
   ]
  },
  {
   "cell_type": "markdown",
   "metadata": {},
   "source": [
    "13. Subtraction (your answer here)"
   ]
  },
  {
   "cell_type": "markdown",
   "metadata": {},
   "source": [
    "14. Multiplication (your answer here)"
   ]
  },
  {
   "cell_type": "markdown",
   "metadata": {},
   "source": [
    "15. Division (your answer here)"
   ]
  },
  {
   "cell_type": "markdown",
   "metadata": {},
   "source": [
    "16. Modulus (your answer here)"
   ]
  },
  {
   "cell_type": "markdown",
   "metadata": {},
   "source": [
    "17. Increment (your answer here)"
   ]
  },
  {
   "cell_type": "markdown",
   "metadata": {},
   "source": [
    "18. Decrement (your answer here)"
   ]
  },
  {
   "cell_type": "markdown",
   "metadata": {},
   "source": [
    "The next 3 questions have small syntax mistakes that make them run badly. For each, identify the syntax mistake, correct it and run it in the space provided."
   ]
  },
  {
   "cell_type": "markdown",
   "metadata": {},
   "source": [
    "19.\n",
    "```c++\n",
    "if (20 > 18) {\n",
    "  cout << \"20 is less than 18\";\n",
    "}\n",
    "```"
   ]
  },
  {
   "cell_type": "markdown",
   "metadata": {},
   "source": [
    "<space for answer 19>"
   ]
  },
  {
   "cell_type": "markdown",
   "metadata": {},
   "source": [
    "20.\n",
    "```c++\n",
    "int x = 20;\n",
    "int y = 18;\n",
    "if (x > z) {\n",
    "  cout << \"x is greater than y\";\n",
    "}\n",
    "```"
   ]
  },
  {
   "cell_type": "markdown",
   "metadata": {},
   "source": [
    "<space for answer 20>"
   ]
  },
  {
   "cell_type": "markdown",
   "metadata": {},
   "source": [
    "21.\n",
    "Make this print \"Hello World\".\n",
    "\n",
    "```c++\n",
    "int x = 50;\n",
    "int y = 10;\n",
    "if (x = y) {\n",
    "  cout << \"Hello World\";\n",
    "}\n",
    "```"
   ]
  },
  {
   "cell_type": "markdown",
   "metadata": {},
   "source": [
    "<space for answer 21>"
   ]
  },
  {
   "cell_type": "markdown",
   "metadata": {},
   "source": [
    "22.\n",
    "Here is a while loop. Modify the code so it prints the numbers 1 - 12.\n",
    "```c++\n",
    "int i = 0;\n",
    "while (i < 5) {\n",
    "  cout << i << \"\\n\";\n",
    "  i++;\n",
    "}\n",
    "```"
   ]
  },
  {
   "cell_type": "markdown",
   "metadata": {},
   "source": [
    "<space for answer 22>"
   ]
  },
  {
   "cell_type": "markdown",
   "metadata": {},
   "source": [
    "23.\n",
    "Modify following \"function\" so that it will print \"I just got executed!\" 5 times.\n",
    "```c++\n",
    "void myFunction() {\n",
    "  cout << \"I just got executed!\\n\";\n",
    "}\n",
    "  myFunction();\n",
    "  myFunction();\n",
    "  myFunction();\n",
    "\n",
    "```"
   ]
  },
  {
   "cell_type": "markdown",
   "metadata": {},
   "source": [
    "<space for answer 23>"
   ]
  },
  {
   "cell_type": "markdown",
   "metadata": {},
   "source": [
    "24.\n",
    "In the space below, in your native language, describe your perfect job in programming. Please indicate in your answer what type of company ( or self employed) you would like to work for."
   ]
  },
  {
   "cell_type": "markdown",
   "metadata": {},
   "source": [
    "(space here for your answer)"
   ]
  },
  {
   "cell_type": "markdown",
   "metadata": {},
   "source": [
    "25.\n",
    "In the space below in your native language describe where you think c++ is most powerful as a programming language. You may use Google to research your answer."
   ]
  },
  {
   "cell_type": "markdown",
   "metadata": {},
   "source": [
    "(space here for your answer)"
   ]
  },
  {
   "cell_type": "code",
   "execution_count": null,
   "metadata": {},
   "outputs": [],
   "source": []
  }
 ],
 "metadata": {
  "kernelspec": {
   "display_name": "C++14",
   "language": "C++14",
   "name": "xcpp14"
  },
  "language_info": {
   "codemirror_mode": "text/x-c++src",
   "file_extension": ".cpp",
   "mimetype": "text/x-c++src",
   "name": "c++",
   "version": "14"
  }
 },
 "nbformat": 4,
 "nbformat_minor": 4
}
